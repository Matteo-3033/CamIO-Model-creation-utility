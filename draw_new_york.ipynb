{
 "cells": [
  {
   "cell_type": "code",
   "execution_count": 17,
   "metadata": {},
   "outputs": [],
   "source": [
    "name = \"New York\"\n",
    "src = \"new_york\"                # source of annotated data\n",
    "feets_per_inch = 333.33         # scale of the map\n",
    "n0 = 0                          # index of the first node\n",
    "n1 = \"(3, 40.74605893499274, -73.99053528624474)\"   # (index, lat, lon) of another node connected to n0\n",
    "d_n0_n1 = 259.19                # distance between n0 and n1 in feet"
   ]
  },
  {
   "cell_type": "markdown",
   "metadata": {},
   "source": [
    "Pois categories:\n",
    "- entertainment\n",
    "- commercial\n",
    "- catering\n",
    "- service\n",
    "- office\n",
    "- leisure\n",
    "- natural\n",
    "- education\n",
    "- building.historic\n",
    "- heritage\n",
    "- tourism\n",
    "- accomodation\n",
    "- pet\n",
    "- healthcare\n",
    "- administrative\n",
    "- production\n",
    "- religion\n",
    "- amenity\n",
    "- public transport"
   ]
  },
  {
   "cell_type": "markdown",
   "metadata": {},
   "source": [
    "Nodes features:\n",
    "- crosswalk\n",
    "- walk light\n",
    "- round-about\n",
    "- walk light duration\n",
    "- street width\n",
    "- tactile paving"
   ]
  },
  {
   "cell_type": "markdown",
   "metadata": {},
   "source": [
    "Edges features:\n",
    "- work in progress\n",
    "- bike lane\n",
    "- uphill\n",
    "- surface\n",
    "- one way\n",
    "- tactile paving\n",
    "- stairs"
   ]
  },
  {
   "cell_type": "markdown",
   "metadata": {},
   "source": [
    "Pois features:\n",
    "- wheelchair accessible\n",
    "- tactile paving\n",
    "- tactile map\n",
    "- reception\n",
    "- stairs\n",
    "- elevators"
   ]
  },
  {
   "cell_type": "code",
   "execution_count": 18,
   "metadata": {},
   "outputs": [],
   "source": [
    "import networkx as nx\n",
    "import numpy as np\n",
    "import matplotlib.pyplot as plt\n",
    "import matplotlib.colors as mcolors\n",
    "import json"
   ]
  },
  {
   "cell_type": "code",
   "execution_count": 19,
   "metadata": {},
   "outputs": [],
   "source": [
    "out = f\"{src}/{src}_out\""
   ]
  },
  {
   "cell_type": "code",
   "execution_count": null,
   "metadata": {},
   "outputs": [],
   "source": [
    "!python3.8 src/format.py --name \"{name}\" --n0 {n0} --n1 \"{n1}\" --d_feets {d_n0_n1} --feets_per_inch {feets_per_inch}  --src_dir \"{src}\""
   ]
  },
  {
   "cell_type": "code",
   "execution_count": 21,
   "metadata": {},
   "outputs": [],
   "source": [
    "def distance(p1, p2):\n",
    "    return ((p1[0] - p2[0])**2 + (p1[1] - p2[1])**2)**0.5\n",
    "\n",
    "def get_label(name: str):\n",
    "    name.replace(\"-\", \" \")\n",
    "    name.replace(\"_\", \" \")\n",
    "\n",
    "    label = \"\"\n",
    "    for word in name.split(\" \"):\n",
    "        if len(word) > 2 and word[:-2].isnumeric():\n",
    "            label += word[:-2]\n",
    "        else: label += word[0]\n",
    "    return label\n",
    "\n",
    "def get_contrasting_color(color):\n",
    "    rgb = mcolors.to_rgb(color)\n",
    "    brightness = 0.299 * rgb[0] + 0.587 * rgb[1] + 0.114 * rgb[2]\n",
    "    return 'white' if brightness < 0.5 else 'black'"
   ]
  },
  {
   "cell_type": "code",
   "execution_count": null,
   "metadata": {},
   "outputs": [],
   "source": [
    "G = nx.Graph()\n",
    "\n",
    "with open(f'{out}/nodes.json') as f:\n",
    "    nodes = json.load(f)\n",
    "\n",
    "for i, node in enumerate(nodes):\n",
    "    G.add_node(i, pos=(node[0], node[1]))\n",
    "\n",
    "with open(f'{out}/edges.json') as f:\n",
    "    edges = json.load(f)\n",
    "\n",
    "with open(f'{out}/streets.json', 'r') as f:\n",
    "    streets = json.load(f)\n",
    "\n",
    "for street, street_edges in streets.items():\n",
    "    street = street.replace(\"Street\", \"St\")\n",
    "    street = street.replace(\"Avenue\", \"Ave\")\n",
    "    street = street.replace(\"Boulevard\", \"Blvd\")\n",
    "    street = street.replace(\"Road\", \"Rd\")\n",
    "\n",
    "    for edge_index in street_edges:\n",
    "        edge = edges[edge_index]\n",
    "\n",
    "        n1 = G.nodes[edge[0]]['pos']\n",
    "        n2 = G.nodes[edge[1]]['pos']\n",
    "        dist = distance(n1, n2)\n",
    "        G.add_edge(edge[0], edge[1], weight=dist, street=street)\n",
    "\n",
    "with open(f'{out}/pois.json') as f:\n",
    "    pois = json.load(f)\n",
    "    pois.sort(key=lambda x: get_label(x['name']))\n",
    "\n",
    "print(f\"PoIs found: {len(pois)}\")"
   ]
  },
  {
   "cell_type": "code",
   "execution_count": null,
   "metadata": {},
   "outputs": [],
   "source": [
    "pos = nx.get_node_attributes(G, \"pos\")\n",
    "\n",
    "plt.figure(figsize=(20, 20))\n",
    "\n",
    "nx.draw(\n",
    "    G,\n",
    "    pos,\n",
    "    with_labels=True,\n",
    "    node_size=50,\n",
    "    node_color=\"skyblue\",\n",
    "    font_size=20,\n",
    "    font_color=\"black\",\n",
    "    font_weight=\"bold\",\n",
    "    edge_color=\"gray\",\n",
    ")\n",
    "\n",
    "labels = nx.get_edge_attributes(G, \"street\")\n",
    "#labels = {k: round(v, 2) for k, v in labels.items()}\n",
    "#labels = {k: get_label(v) for k, v in labels.items()}\n",
    "nx.draw_networkx_edge_labels(G, pos, edge_labels=labels, font_size=12)\n",
    "\n",
    "colors = np.random.rand(len(pois), 3)\n",
    "for i, poi in enumerate(pois):\n",
    "    coords = poi[\"coords\"]\n",
    "    dot = plt.scatter(\n",
    "        coords[0], coords[1], color=colors[i], s=500, label=f\"{i}. {poi['name']}\"\n",
    "    )\n",
    "    text_color = get_contrasting_color(colors[i])\n",
    "    plt.text(coords[0], coords[1], i, fontsize=16, c=text_color, ha=\"center\", va=\"center\")\n",
    "\n",
    "plt.gca().invert_yaxis()\n",
    "plt.gcf().set_size_inches(20, 20)\n",
    "\n",
    "plt.legend(bbox_to_anchor=(1.05, 1), loc=\"upper left\")\n",
    "plt.savefig(f\"{out}/plot.png\", format=\"png\", dpi=300, bbox_inches=\"tight\")\n",
    "plt.show()"
   ]
  },
  {
   "cell_type": "code",
   "execution_count": null,
   "metadata": {},
   "outputs": [],
   "source": [
    "offset = 0\n",
    "for i, poi in enumerate(pois[offset:]):\n",
    "    print(f\"{i + offset}. {poi['name']} - {edges[poi['edge']]}\")"
   ]
  }
 ],
 "metadata": {
  "kernelspec": {
   "display_name": "CamIO",
   "language": "python",
   "name": "python3"
  },
  "language_info": {
   "codemirror_mode": {
    "name": "ipython",
    "version": 3
   },
   "file_extension": ".py",
   "mimetype": "text/x-python",
   "name": "python",
   "nbconvert_exporter": "python",
   "pygments_lexer": "ipython3",
   "version": "3.12.6"
  }
 },
 "nbformat": 4,
 "nbformat_minor": 2
}
